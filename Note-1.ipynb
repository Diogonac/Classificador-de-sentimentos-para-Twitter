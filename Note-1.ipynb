{
 "cells": [
  {
   "cell_type": "markdown",
   "metadata": {},
   "source": [
    "# Projeto 2 - Ciência dos Dados"
   ]
  },
  {
   "cell_type": "markdown",
   "metadata": {},
   "source": [
    "Nome: _____\n",
    "\n",
    "Nome: Diogo Nobre de Araujo Cintra"
   ]
  },
  {
   "cell_type": "markdown",
   "metadata": {},
   "source": [
    "___\n",
    "# Classificador automático de sentimento\n"
   ]
  },
  {
   "cell_type": "markdown",
   "metadata": {},
   "source": [
    "## Preparando o ambiente no jupyter:"
   ]
  },
  {
   "cell_type": "code",
   "execution_count": 1,
   "metadata": {},
   "outputs": [],
   "source": [
    "%%capture\n",
    "!pip install tweepy"
   ]
  },
  {
   "cell_type": "code",
   "execution_count": 2,
   "metadata": {
    "jupyter": {
     "outputs_hidden": true
    }
   },
   "outputs": [],
   "source": [
    "%matplotlib inline\n",
    "import tweepy\n",
    "import math\n",
    "import os.path\n",
    "import pandas as pd\n",
    "import json\n",
    "from random import shuffle\n",
    "import matplotlib.pyplot as plt\n",
    "from numpy import arange\n",
    "from numpy import percentile\n",
    "import numpy as np\n",
    "import os\n",
    "import re "
   ]
  },
  {
   "cell_type": "markdown",
   "metadata": {},
   "source": [
    "___\n",
    "## Autenticando no  Twitter\n",
    "\n",
    "* Conta: ***@Ciencia dos dados***"
   ]
  },
  {
   "cell_type": "raw",
   "metadata": {
    "jupyter": {
     "outputs_hidden": true
    }
   },
   "source": [
    "#leitura do arquivo no formato JSON\n",
    "with open('auth.pass') as fp:    \n",
    "    data = json.load(fp)"
   ]
  },
  {
   "cell_type": "raw",
   "metadata": {
    "jupyter": {
     "outputs_hidden": true
    }
   },
   "source": [
    "#Configurando a biblioteca\n",
    "auth = tweepy.OAuthHandler(data['consumer_key'], data['consumer_secret'])\n",
    "auth.set_access_token(data['access_token'], data['access_token_secret'])"
   ]
  },
  {
   "cell_type": "markdown",
   "metadata": {},
   "source": [
    "___\n",
    "## Etapas do projeto:"
   ]
  },
  {
   "cell_type": "markdown",
   "metadata": {},
   "source": [
    "### Escolha de um produto e coleta das mensagens\n"
   ]
  },
  {
   "cell_type": "raw",
   "metadata": {
    "jupyter": {
     "outputs_hidden": true
    }
   },
   "source": [
    "#Produto escolhido:\n",
    "produto = 'Correios'\n",
    "\n",
    "#Quantidade mínima de mensagens capturadas:\n",
    "n = 500\n",
    "#Quantidade mínima de mensagens para a base de treinamento:\n",
    "t = 300\n",
    "\n",
    "#Filtro de língua, escolha uma na tabela ISO 639-1.\n",
    "lang = 'pt'"
   ]
  },
  {
   "cell_type": "markdown",
   "metadata": {},
   "source": [
    "Capturando os dados do twitter:"
   ]
  },
  {
   "cell_type": "raw",
   "metadata": {
    "jupyter": {
     "outputs_hidden": true
    }
   },
   "source": [
    "#Cria um objeto para a captura\n",
    "api = tweepy.API(auth)\n",
    "\n",
    "#Inicia a captura, para mais detalhes: ver a documentação do tweepy\n",
    "i = 1\n",
    "msgs = []\n",
    "for msg in tweepy.Cursor(api.search, q=produto, lang=lang, tweet_mode=\"extended\").items():    \n",
    "    msgs.append(msg.full_text.lower())\n",
    "    i += 1\n",
    "    if i > n:\n",
    "        break\n",
    "\n",
    "#Embaralhando as mensagens para reduzir um possível viés\n",
    "shuffle(msgs)"
   ]
  },
  {
   "cell_type": "markdown",
   "metadata": {},
   "source": [
    "Salvando os dados em uma planilha Excel:"
   ]
  },
  {
   "cell_type": "raw",
   "metadata": {
    "jupyter": {
     "outputs_hidden": true
    }
   },
   "source": [
    "#Verifica se o arquivo não existe para não substituir um conjunto pronto\n",
    "if not os.path.isfile('./{0}.xlsx'.format(produto)):\n",
    "    \n",
    "    #Abre o arquivo para escrita\n",
    "    writer = pd.ExcelWriter('{0}.xlsx'.format(produto))\n",
    "\n",
    "    #divide o conjunto de mensagens em duas planilhas\n",
    "    dft = pd.DataFrame({'Treinamento' : pd.Series(msgs[:t])})\n",
    "    dft.to_excel(excel_writer = writer, sheet_name = 'Treinamento', index = False)\n",
    "\n",
    "    dfc = pd.DataFrame({'Teste' : pd.Series(msgs[t:])})\n",
    "    dfc.to_excel(excel_writer = writer, sheet_name = 'Teste', index = False)\n",
    "\n",
    "    #fecha o arquivo\n",
    "    writer.save()"
   ]
  },
  {
   "cell_type": "markdown",
   "metadata": {},
   "source": [
    "___\n",
    "### Classificando as mensagens na coragem\n",
    "\n",
    "#### 0 = irrelevante\n",
    "#### 1 = relevante"
   ]
  },
  {
   "cell_type": "code",
   "execution_count": 3,
   "metadata": {},
   "outputs": [],
   "source": [
    "TREINAMENTO = pd.read_excel('Correios.xlsx',sheet_name = 'Treinamento')\n",
    "TESTE = pd.read_excel('Correios.xlsx',sheet_name = 'Teste')"
   ]
  },
  {
   "cell_type": "code",
   "execution_count": 4,
   "metadata": {},
   "outputs": [],
   "source": [
    "TREINAMENTO_RELEVANTE = TREINAMENTO.loc[TREINAMENTO[\"Classificacao\"]==1]\n",
    "TREINAMENTO_IRRELEVANTE = TREINAMENTO.loc[TREINAMENTO[\"Classificacao\"]==0]\n",
    "\n",
    "def clean(text):\n",
    "    punctuation = '[!\\-.:?;#$%&*_1234567890\"]'\n",
    "    pattern = re.compile(punctuation)\n",
    "    text_subbed = re.sub(pattern, ' ', text)\n",
    "    return text_subbed"
   ]
  },
  {
   "cell_type": "code",
   "execution_count": 5,
   "metadata": {},
   "outputs": [],
   "source": [
    "texto_relevante = \" \".join(TREINAMENTO_RELEVANTE['Treinamento'])\n",
    "texto_relevante_1 = clean(texto_relevante)\n",
    "texto_relevante_2 = texto_relevante_1.split()\n",
    "texto_relevante_3 = []\n",
    "\n",
    "texto_irrelevante = \" \".join(TREINAMENTO_IRRELEVANTE['Treinamento'])\n",
    "texto_irrelevante_1 = clean(texto_irrelevante)\n",
    "texto_irrelevante_2 = texto_irrelevante_1.split()\n",
    "texto_irrelevante_3 = []\n",
    "\n",
    "treinamento = \" \".join(TREINAMENTO['Treinamento'])\n",
    "treinamento_1 = clean(treinamento)\n",
    "treinamento_2 = treinamento_1.split()\n",
    "treinamento_3 = []\n",
    "\n",
    "for e in range(len(texto_relevante_2)-1):\n",
    "    if texto_relevante_2[e] != 'rt' and texto_relevante_2[e][0] != '@':     \n",
    "        texto_relevante_3.append(texto_relevante_2[e])    \n",
    "        \n",
    "for e in range(len(texto_irrelevante_2)-1):\n",
    "    if texto_irrelevante_2[e] != 'rt' and texto_irrelevante_2[e][0] != '@':     \n",
    "        texto_irrelevante_3.append(texto_irrelevante_2[e]) \n",
    "        \n",
    "for e in range(len(treinamento_2)-1):\n",
    "    if treinamento_2[e] != 'rt' and treinamento_2[e][0] != '@':     \n",
    "        treinamento_3.append(treinamento_2[e])\n",
    "        \n",
    "texto_relevante_4 = pd.Series(texto_relevante_3)\n",
    "texto_irrelevante_4 = pd.Series(texto_irrelevante_3)\n",
    "treinamento_4 = pd.Series(treinamento_3)"
   ]
  },
  {
   "cell_type": "markdown",
   "metadata": {},
   "source": [
    "#### Probabilidade do tweet ser relevante"
   ]
  },
  {
   "cell_type": "code",
   "execution_count": 6,
   "metadata": {},
   "outputs": [
    {
     "data": {
      "text/plain": [
       "0.4013377926421405"
      ]
     },
     "execution_count": 6,
     "metadata": {},
     "output_type": "execute_result"
    }
   ],
   "source": [
    "prob_relevante = len(TREINAMENTO.loc[TREINAMENTO[\"Classificacao\"]==1])/len(TREINAMENTO[\"Treinamento\"])\n",
    "prob_relevante"
   ]
  },
  {
   "cell_type": "markdown",
   "metadata": {},
   "source": [
    "#### Probabilidade do tweet ser relevante"
   ]
  },
  {
   "cell_type": "code",
   "execution_count": 7,
   "metadata": {},
   "outputs": [
    {
     "data": {
      "text/plain": [
       "0.5986622073578596"
      ]
     },
     "execution_count": 7,
     "metadata": {},
     "output_type": "execute_result"
    }
   ],
   "source": [
    "prob_irrelevante = len(TREINAMENTO.loc[TREINAMENTO[\"Classificacao\"]==0])/len(TREINAMENTO[\"Treinamento\"])\n",
    "prob_irrelevante"
   ]
  },
  {
   "cell_type": "markdown",
   "metadata": {},
   "source": [
    "___\n",
    "### Montando o Classificador Naive-Bayes"
   ]
  },
  {
   "cell_type": "code",
   "execution_count": 8,
   "metadata": {},
   "outputs": [
    {
     "data": {
      "text/plain": [
       "correios          0.021303\n",
       "de                0.018936\n",
       "o                 0.016412\n",
       "que               0.016254\n",
       "a                 0.013255\n",
       "os                0.010415\n",
       "dos               0.009153\n",
       "e                 0.007732\n",
       "//t               0.007101\n",
       "https             0.007101\n",
       "uma               0.006943\n",
       "em                0.006786\n",
       "do                0.006154\n",
       "é                 0.005997\n",
       "no                0.005839\n",
       "na                0.005365\n",
       "não               0.005208\n",
       "correios,         0.004103\n",
       "da                0.004103\n",
       "se                0.003945\n",
       "governo           0.003629\n",
       "transformar       0.003472\n",
       "sobre             0.003472\n",
       "ao                0.003472\n",
       "eu                0.003314\n",
       "para              0.003156\n",
       "privatização      0.003156\n",
       "com               0.003156\n",
       "amazon            0.002998\n",
       "por               0.002840\n",
       "                    ...   \n",
       "estaremos         0.000158\n",
       "mundo,            0.000158\n",
       "cassação          0.000158\n",
       "privatizadora     0.000158\n",
       "trabalhei         0.000158\n",
       "zona              0.000158\n",
       "“carta            0.000158\n",
       "menor)            0.000158\n",
       "tolos             0.000158\n",
       "canoas            0.000158\n",
       "farsa             0.000158\n",
       "romildo           0.000158\n",
       "entrar            0.000158\n",
       "vermelha          0.000158\n",
       "sido              0.000158\n",
       "te                0.000158\n",
       "ruim              0.000158\n",
       "meus              0.000158\n",
       "saco              0.000158\n",
       "reunião           0.000158\n",
       "argentinizacao    0.000158\n",
       "rolê              0.000158\n",
       "aw                0.000158\n",
       "pique,            0.000158\n",
       "richter           0.000158\n",
       "semana            0.000158\n",
       "sentido           0.000158\n",
       "queria            0.000158\n",
       "rentabilidade     0.000158\n",
       "evitar            0.000158\n",
       "Length: 1296, dtype: float64"
      ]
     },
     "execution_count": 8,
     "metadata": {},
     "output_type": "execute_result"
    }
   ],
   "source": [
    "total_amostral = len(treinamento_4)\n",
    "total_relevante = texto_relevante_4.value_counts()\n",
    "total_irrelevante = texto_irrelevante_4.value_counts()\n",
    "\n",
    "#Probabilidade da palavra ser relevante\n",
    "prob_relevante_palavra = total_relevante/total_amostral\n",
    "prob_relevante_palavra\n",
    "\n",
    "#Probabilidade da palavra ser irrelevante\n",
    "prob_irrelevante_palavra = total_irrelevante/total_amostral\n",
    "prob_irrelevante_palavra"
   ]
  },
  {
   "cell_type": "markdown",
   "metadata": {},
   "source": [
    "___\n",
    "### Verificando a performance\n",
    "\n",
    "Agora você deve testar o seu classificador com a base de Testes."
   ]
  },
  {
   "cell_type": "code",
   "execution_count": null,
   "metadata": {},
   "outputs": [],
   "source": [
    "prob_relevante_teste = len(TESTE.loc[TESTE[\"Classificacao\"]==1])/len(TESTE[\"Teste\"])\n",
    "prob_irrelevante_teste = len(TESTE.loc[TESTE[\"Classificacao\"]==0])/len(TESTE[\"Teste\"])\n",
    "\n",
    "smoth = 1e-10 #é uma estimativa e deve mudar\n",
    "\n",
    "# defini probabilidade de ser relevante:\n",
    "def relevante(tweet):\n",
    "    \n",
    "    tweet_relevante_2 = clean(tweet)\n",
    "    tweet_relevante_3 = tweet_relevante_2.split()\n",
    "    tweet_relevante_4 = []\n",
    "    \n",
    "    for e in range(len(tweet_relevante_3)-1):\n",
    "        \n",
    "        if tweet_relevante_3[e] != 'rt' and tweet_relevante_3[e][0] != '@':     \n",
    "            tweet_relevante_4.append(tweet_relevante_3[e])\n",
    "            \n",
    "    prob = 1\n",
    "    \n",
    "    for p in tweet_relevante_4:\n",
    "        \n",
    "        if p in prob_relevante_palavra:\n",
    "            prob = prob*(prob_relevante_palavra[p]+smoth)\n",
    "        else:\n",
    "            prob = prob*(smoth)\n",
    "            \n",
    "    prob = prob * prob_relevante\n",
    "    \n",
    "    return prob\n",
    "\n",
    "# defini probabilidade de ser irrelevante:\n",
    "def irrelevante(tweet):\n",
    "    \n",
    "    tweet_irrelevante_2 = clean(tweet)\n",
    "    tweet_irrelevante_3 = tweet_irrelevante_2.split()\n",
    "    tweet_irrelevante_4 = []\n",
    "    \n",
    "    for e in range(len(tweet_irrelevante_3)-1):\n",
    "        if tweet_irrelevante_3[e] != 'rt' and tweet_irrelevante_3[e][0] != '@':     \n",
    "            tweet_irrelevante_4.append(tweet_irrelevante_3[e])\n",
    "            \n",
    "    prob = 1\n",
    "    \n",
    "    for p in tweet_irrelevante_4:\n",
    "        \n",
    "        if p in prob_irrelevante_palavra:\n",
    "            prob = prob*(prob_irrelevante_palavra[p]+smoth)\n",
    "        else:\n",
    "            prob = prob*(smoth)\n",
    "            \n",
    "    prob = prob * prob_irrelevante\n",
    "    \n",
    "    return prob"
   ]
  },
  {
   "cell_type": "code",
   "execution_count": 23,
   "metadata": {},
   "outputs": [],
   "source": [
    "def compara (tweet):\n",
    "    \n",
    "    r = relevante(tweet)\n",
    "    nor = irrelevante(tweet)\n",
    "    \n",
    "    return r>nor\n",
    "\n",
    "rev = 0\n",
    "norev = 0\n",
    "\n",
    "for e in TESTE[\"Teste\"]:\n",
    "\n",
    "    if compara(e):\n",
    "        rev +=1\n",
    "    else:\n",
    "        norev+=1"
   ]
  },
  {
   "cell_type": "code",
   "execution_count": 35,
   "metadata": {},
   "outputs": [
    {
     "name": "stdout",
     "output_type": "stream",
     "text": [
      "A probabilidade de ser relevante segundo o algoritmo: 24.0%\n",
      "A probabilidade de ser irrelevante segundo o algoritmo: 76.0%\n",
      "poucos relevantes 0.5393258426966292 vezes o esperado\n",
      "Probabilidade de ser relevante pela nossa classificação: 44.50%\n",
      "Probabilidade de ser irrelevante pela nossa classificação: 55.50%\n"
     ]
    }
   ],
   "source": [
    "print(\"A probabilidade de ser relevante segundo o algoritmo: {}%\".format((rev/TESTE[\"Teste\"].size)*100))\n",
    "print(\"A probabilidade de ser irrelevante segundo o algoritmo: {}%\".format((norev/TESTE[\"Teste\"].size)*100))\n",
    "\n",
    "if rev/(TESTE[\"Teste\"].size) < 0.9*prob_relevante_teste:\n",
    "    print (\"poucos relevantes {} vezes o esperado\".format(rev/TESTE[\"Teste\"].size/prob_relevante_teste))\n",
    "    \n",
    "elif rev/(TESTE[\"Teste\"].size) > 1.1*prob_relevante_teste:\n",
    "    print (\"muitos relevantes {} vezes o esperado\" .format(rev/TESTE[\"Teste\"].size/prob_relevante_teste))\n",
    "    \n",
    "else:\n",
    "    print (\"ok: {} veze o esperado\".format (rev/TESTE[\"Teste\"].size/prob_relevante_teste))  \n",
    "    \n",
    "print(\"Probabilidade de ser relevante pela nossa classificação: {:.2f}%\".format(prob_relevante_teste*100))\n",
    "print(\"Probabilidade de ser irrelevante pela nossa classificação: {:.2f}%\".format(prob_irrelevante_teste*100))"
   ]
  },
  {
   "cell_type": "markdown",
   "metadata": {},
   "source": [
    "___\n",
    "### Concluindo"
   ]
  },
  {
   "cell_type": "code",
   "execution_count": null,
   "metadata": {},
   "outputs": [],
   "source": [
    "\n"
   ]
  },
  {
   "cell_type": "code",
   "execution_count": null,
   "metadata": {},
   "outputs": [],
   "source": []
  },
  {
   "cell_type": "markdown",
   "metadata": {},
   "source": [
    "## Aperfeiçoamento:\n",
    "\n",
    "Os trabalhos vão evoluir em conceito dependendo da quantidade de itens avançados:\n",
    "\n",
    "* Limpar: \\n, :, \", ', (, ), etc SEM remover emojis\n",
    "* Corrigir separação de espaços entre palavras e emojis ou emojis e emojis\n",
    "* Propor outras limpezas e transformações que não afetem a qualidade da informação ou classificação\n",
    "* Criar categorias intermediárias de relevância baseadas na probabilidade: ex.: muito relevante, relevante, neutro, irrelevante, muito irrelevante (3 categorias: C, mais categorias conta para B)\n",
    "* Explicar por que não posso usar o próprio classificador para gerar mais amostras de treinamento\n",
    "* Propor diferentes cenários para Naïve Bayes fora do contexto do projeto\n",
    "* Sugerir e explicar melhorias reais com indicações concretas de como implementar (indicar como fazer e indicar material de pesquisa)\n",
    "* Montar um dashboard que periodicamente realiza análise de sentimento e visualiza estes dados"
   ]
  },
  {
   "cell_type": "markdown",
   "metadata": {},
   "source": [
    "# Referências"
   ]
  },
  {
   "cell_type": "markdown",
   "metadata": {},
   "source": [
    "[Naive Bayes and Text Classification](https://arxiv.org/pdf/1410.5329.pdf)  **Mais completo**\n",
    "\n",
    "[A practical explanation of a Naive Bayes Classifier](https://monkeylearn.com/blog/practical-explanation-naive-bayes-classifier/) **Mais simples**"
   ]
  },
  {
   "cell_type": "code",
   "execution_count": null,
   "metadata": {},
   "outputs": [],
   "source": []
  }
 ],
 "metadata": {
  "kernelspec": {
   "display_name": "Python 3",
   "language": "python",
   "name": "python3"
  },
  "language_info": {
   "codemirror_mode": {
    "name": "ipython",
    "version": 3
   },
   "file_extension": ".py",
   "mimetype": "text/x-python",
   "name": "python",
   "nbconvert_exporter": "python",
   "pygments_lexer": "ipython3",
   "version": "3.7.1"
  }
 },
 "nbformat": 4,
 "nbformat_minor": 4
}
