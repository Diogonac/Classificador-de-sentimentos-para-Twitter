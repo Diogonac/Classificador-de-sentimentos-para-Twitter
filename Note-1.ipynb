{
 "cells": [
  {
   "cell_type": "markdown",
   "metadata": {},
   "source": [
    "# Projeto 2 - Ciência dos Dados"
   ]
  },
  {
   "cell_type": "markdown",
   "metadata": {},
   "source": [
    "Nome: _____\n",
    "\n",
    "Nome: Diogo Nobre de Araujo Cintra"
   ]
  },
  {
   "cell_type": "markdown",
   "metadata": {},
   "source": [
    "___\n",
    "# Classificador automático de sentimento\n"
   ]
  },
  {
   "cell_type": "markdown",
   "metadata": {},
   "source": [
    "## Preparando o ambiente no jupyter:"
   ]
  },
  {
   "cell_type": "code",
   "execution_count": 2,
   "metadata": {},
   "outputs": [],
   "source": [
    "%%capture\n",
    "\n",
    "#Instalando o tweepy\n",
    "!pip install tweepy"
   ]
  },
  {
   "cell_type": "code",
   "execution_count": 19,
   "metadata": {
    "jupyter": {
     "outputs_hidden": true
    }
   },
   "outputs": [],
   "source": [
    "%matplotlib inline\n",
    "import tweepy\n",
    "import math\n",
    "import os.path\n",
    "import pandas as pd\n",
    "import json\n",
    "from random import shuffle\n",
    "import matplotlib.pyplot as plt\n",
    "from numpy import arange\n",
    "from numpy import percentile\n",
    "import numpy as np\n",
    "import os"
   ]
  },
  {
   "cell_type": "markdown",
   "metadata": {},
   "source": [
    "___\n",
    "## Autenticando no  Twitter\n",
    "\n",
    "* Conta: ***@Ciencia dos dados***"
   ]
  },
  {
   "cell_type": "raw",
   "metadata": {
    "jupyter": {
     "outputs_hidden": true
    }
   },
   "source": [
    "#leitura do arquivo no formato JSON\n",
    "with open('auth.pass') as fp:    \n",
    "    data = json.load(fp)"
   ]
  },
  {
   "cell_type": "raw",
   "metadata": {
    "jupyter": {
     "outputs_hidden": true
    }
   },
   "source": [
    "#Configurando a biblioteca\n",
    "auth = tweepy.OAuthHandler(data['consumer_key'], data['consumer_secret'])\n",
    "auth.set_access_token(data['access_token'], data['access_token_secret'])"
   ]
  },
  {
   "cell_type": "markdown",
   "metadata": {},
   "source": [
    "___\n",
    "## Etapas do projeto:"
   ]
  },
  {
   "cell_type": "markdown",
   "metadata": {},
   "source": [
    "### Escolha de um produto e coleta das mensagens\n"
   ]
  },
  {
   "cell_type": "raw",
   "metadata": {
    "jupyter": {
     "outputs_hidden": true
    }
   },
   "source": [
    "#Produto escolhido:\n",
    "produto = 'Correios'\n",
    "\n",
    "#Quantidade mínima de mensagens capturadas:\n",
    "n = 500\n",
    "#Quantidade mínima de mensagens para a base de treinamento:\n",
    "t = 300\n",
    "\n",
    "#Filtro de língua, escolha uma na tabela ISO 639-1.\n",
    "lang = 'pt'"
   ]
  },
  {
   "cell_type": "markdown",
   "metadata": {},
   "source": [
    "Capturando os dados do twitter:"
   ]
  },
  {
   "cell_type": "raw",
   "metadata": {
    "jupyter": {
     "outputs_hidden": true
    }
   },
   "source": [
    "#Cria um objeto para a captura\n",
    "api = tweepy.API(auth)\n",
    "\n",
    "#Inicia a captura, para mais detalhes: ver a documentação do tweepy\n",
    "i = 1\n",
    "msgs = []\n",
    "for msg in tweepy.Cursor(api.search, q=produto, lang=lang, tweet_mode=\"extended\").items():    \n",
    "    msgs.append(msg.full_text.lower())\n",
    "    i += 1\n",
    "    if i > n:\n",
    "        break\n",
    "\n",
    "#Embaralhando as mensagens para reduzir um possível viés\n",
    "shuffle(msgs)"
   ]
  },
  {
   "cell_type": "markdown",
   "metadata": {},
   "source": [
    "Salvando os dados em uma planilha Excel:"
   ]
  },
  {
   "cell_type": "raw",
   "metadata": {
    "jupyter": {
     "outputs_hidden": true
    }
   },
   "source": [
    "#Verifica se o arquivo não existe para não substituir um conjunto pronto\n",
    "if not os.path.isfile('./{0}.xlsx'.format(produto)):\n",
    "    \n",
    "    #Abre o arquivo para escrita\n",
    "    writer = pd.ExcelWriter('{0}.xlsx'.format(produto))\n",
    "\n",
    "    #divide o conjunto de mensagens em duas planilhas\n",
    "    dft = pd.DataFrame({'Treinamento' : pd.Series(msgs[:t])})\n",
    "    dft.to_excel(excel_writer = writer, sheet_name = 'Treinamento', index = False)\n",
    "\n",
    "    dfc = pd.DataFrame({'Teste' : pd.Series(msgs[t:])})\n",
    "    dfc.to_excel(excel_writer = writer, sheet_name = 'Teste', index = False)\n",
    "\n",
    "    #fecha o arquivo\n",
    "    writer.save()"
   ]
  },
  {
   "cell_type": "markdown",
   "metadata": {},
   "source": [
    "___\n",
    "### Classificando as mensagens na coragem\n",
    "\n",
    "#### 0 = irrelevante\n",
    "#### 1 = relevante"
   ]
  },
  {
   "cell_type": "code",
   "execution_count": 25,
   "metadata": {},
   "outputs": [
    {
     "data": {
      "text/html": [
       "<div>\n",
       "<style scoped>\n",
       "    .dataframe tbody tr th:only-of-type {\n",
       "        vertical-align: middle;\n",
       "    }\n",
       "\n",
       "    .dataframe tbody tr th {\n",
       "        vertical-align: top;\n",
       "    }\n",
       "\n",
       "    .dataframe thead th {\n",
       "        text-align: right;\n",
       "    }\n",
       "</style>\n",
       "<table border=\"1\" class=\"dataframe\">\n",
       "  <thead>\n",
       "    <tr style=\"text-align: right;\">\n",
       "      <th></th>\n",
       "      <th>Treinamento</th>\n",
       "      <th>Classificacao</th>\n",
       "    </tr>\n",
       "  </thead>\n",
       "  <tbody>\n",
       "    <tr>\n",
       "      <th>0</th>\n",
       "      <td>rt @arthurmoledoval: o governo recomendou ao b...</td>\n",
       "      <td>0.0</td>\n",
       "    </tr>\n",
       "    <tr>\n",
       "      <th>1</th>\n",
       "      <td>rt @casonatogabriel: a amazon, empresa na qual...</td>\n",
       "      <td>0.0</td>\n",
       "    </tr>\n",
       "    <tr>\n",
       "      <th>2</th>\n",
       "      <td>rt @arthurmoledoval: o governo recomendou ao b...</td>\n",
       "      <td>0.0</td>\n",
       "    </tr>\n",
       "    <tr>\n",
       "      <th>3</th>\n",
       "      <td>@willianlofy hoje usam correios quem quer, com...</td>\n",
       "      <td>0.0</td>\n",
       "    </tr>\n",
       "    <tr>\n",
       "      <th>4</th>\n",
       "      <td>@eduwilbert já acordei puto com os correios kk...</td>\n",
       "      <td>1.0</td>\n",
       "    </tr>\n",
       "    <tr>\n",
       "      <th>5</th>\n",
       "      <td>@filipeazero @folha os correios oferecem servi...</td>\n",
       "      <td>1.0</td>\n",
       "    </tr>\n",
       "    <tr>\n",
       "      <th>6</th>\n",
       "      <td>rt @iaragb: cpi dos correios - r$3.863.955,35 ...</td>\n",
       "      <td>1.0</td>\n",
       "    </tr>\n",
       "    <tr>\n",
       "      <th>7</th>\n",
       "      <td>o sistema de entrega dos correios é péssimo</td>\n",
       "      <td>1.0</td>\n",
       "    </tr>\n",
       "    <tr>\n",
       "      <th>8</th>\n",
       "      <td>rt @casonatogabriel: a amazon, empresa na qual...</td>\n",
       "      <td>0.0</td>\n",
       "    </tr>\n",
       "    <tr>\n",
       "      <th>9</th>\n",
       "      <td>rt @arthurmoledoval: o governo recomendou ao b...</td>\n",
       "      <td>0.0</td>\n",
       "    </tr>\n",
       "    <tr>\n",
       "      <th>10</th>\n",
       "      <td>a pessoa vai dirigir de madrugada achando que ...</td>\n",
       "      <td>0.0</td>\n",
       "    </tr>\n",
       "    <tr>\n",
       "      <th>11</th>\n",
       "      <td>@okeydokeystore @dokeystaff kkkkkkkkkkkkkk, nã...</td>\n",
       "      <td>1.0</td>\n",
       "    </tr>\n",
       "    <tr>\n",
       "      <th>12</th>\n",
       "      <td>sdd de quando tinha aqueles correios anônimos,...</td>\n",
       "      <td>0.0</td>\n",
       "    </tr>\n",
       "    <tr>\n",
       "      <th>13</th>\n",
       "      <td>@thefaceofnike han, aqui é nesse pique, o bom ...</td>\n",
       "      <td>0.0</td>\n",
       "    </tr>\n",
       "    <tr>\n",
       "      <th>14</th>\n",
       "      <td>rt @casonatogabriel: a amazon, empresa na qual...</td>\n",
       "      <td>0.0</td>\n",
       "    </tr>\n",
       "    <tr>\n",
       "      <th>15</th>\n",
       "      <td>demorou 1 semana pra vir a encomenda dos eua p...</td>\n",
       "      <td>1.0</td>\n",
       "    </tr>\n",
       "    <tr>\n",
       "      <th>16</th>\n",
       "      <td>vir aos correios é sempre uma seca!</td>\n",
       "      <td>1.0</td>\n",
       "    </tr>\n",
       "    <tr>\n",
       "      <th>17</th>\n",
       "      <td>@deborah_gurgeel já recebi encomenda do correi...</td>\n",
       "      <td>1.0</td>\n",
       "    </tr>\n",
       "    <tr>\n",
       "      <th>18</th>\n",
       "      <td>@eniberto_real @rafaiovanovichi ele disse que ...</td>\n",
       "      <td>0.0</td>\n",
       "    </tr>\n",
       "    <tr>\n",
       "      <th>19</th>\n",
       "      <td>só pra completar o que ñ completei em um comen...</td>\n",
       "      <td>1.0</td>\n",
       "    </tr>\n",
       "    <tr>\n",
       "      <th>20</th>\n",
       "      <td>correios do caralhooooooooooo</td>\n",
       "      <td>1.0</td>\n",
       "    </tr>\n",
       "    <tr>\n",
       "      <th>21</th>\n",
       "      <td>quadrilha alvo da pf no tocantins vendia moeda...</td>\n",
       "      <td>0.0</td>\n",
       "    </tr>\n",
       "    <tr>\n",
       "      <th>22</th>\n",
       "      <td>polícia procura por homem que roubou agência d...</td>\n",
       "      <td>0.0</td>\n",
       "    </tr>\n",
       "    <tr>\n",
       "      <th>23</th>\n",
       "      <td>rt @arthurmoledoval: o governo recomendou ao b...</td>\n",
       "      <td>1.0</td>\n",
       "    </tr>\n",
       "    <tr>\n",
       "      <th>24</th>\n",
       "      <td>eu odeio os correios, puta que pariu. fui busc...</td>\n",
       "      <td>1.0</td>\n",
       "    </tr>\n",
       "    <tr>\n",
       "      <th>25</th>\n",
       "      <td>será que dessa vez os correios decidem me mand...</td>\n",
       "      <td>1.0</td>\n",
       "    </tr>\n",
       "    <tr>\n",
       "      <th>26</th>\n",
       "      <td>@mariadorosario explique porque os “correios” ...</td>\n",
       "      <td>1.0</td>\n",
       "    </tr>\n",
       "    <tr>\n",
       "      <th>27</th>\n",
       "      <td>@marcelo83182768 @rafa_freitas23 @arthurmoledo...</td>\n",
       "      <td>1.0</td>\n",
       "    </tr>\n",
       "    <tr>\n",
       "      <th>28</th>\n",
       "      <td>@ph_limass uma pergunta de alguém que genuinam...</td>\n",
       "      <td>0.0</td>\n",
       "    </tr>\n",
       "    <tr>\n",
       "      <th>29</th>\n",
       "      <td>prazo de 40 dias úteis após pagamento de taxa\\...</td>\n",
       "      <td>1.0</td>\n",
       "    </tr>\n",
       "    <tr>\n",
       "      <th>...</th>\n",
       "      <td>...</td>\n",
       "      <td>...</td>\n",
       "    </tr>\n",
       "    <tr>\n",
       "      <th>269</th>\n",
       "      <td>ata pq a bonita ia agora nos correios e nn ia ...</td>\n",
       "      <td>NaN</td>\n",
       "    </tr>\n",
       "    <tr>\n",
       "      <th>270</th>\n",
       "      <td>mas bons são os correios, né não? (prazos a pa...</td>\n",
       "      <td>NaN</td>\n",
       "    </tr>\n",
       "    <tr>\n",
       "      <th>271</th>\n",
       "      <td>polícia militar prende autores de roubo aos co...</td>\n",
       "      <td>NaN</td>\n",
       "    </tr>\n",
       "    <tr>\n",
       "      <th>272</th>\n",
       "      <td>rt @paudo_guedes: @luizagcarvalho privatização...</td>\n",
       "      <td>NaN</td>\n",
       "    </tr>\n",
       "    <tr>\n",
       "      <th>273</th>\n",
       "      <td>@maquelischell_ wow, pera, sério ? já vou mand...</td>\n",
       "      <td>NaN</td>\n",
       "    </tr>\n",
       "    <tr>\n",
       "      <th>274</th>\n",
       "      <td>rt @siqueirambl: o vereador  da cidade do rio ...</td>\n",
       "      <td>NaN</td>\n",
       "    </tr>\n",
       "    <tr>\n",
       "      <th>275</th>\n",
       "      <td>a privatização dos correios teria consequência...</td>\n",
       "      <td>NaN</td>\n",
       "    </tr>\n",
       "    <tr>\n",
       "      <th>276</th>\n",
       "      <td>@ph_limass @brunolimongi2 @ajulysantos @correi...</td>\n",
       "      <td>NaN</td>\n",
       "    </tr>\n",
       "    <tr>\n",
       "      <th>277</th>\n",
       "      <td>rt @arthurmoledoval: o governo recomendou ao b...</td>\n",
       "      <td>NaN</td>\n",
       "    </tr>\n",
       "    <tr>\n",
       "      <th>278</th>\n",
       "      <td>nos anos da roubalheira sem fim do pt, a espn ...</td>\n",
       "      <td>NaN</td>\n",
       "    </tr>\n",
       "    <tr>\n",
       "      <th>279</th>\n",
       "      <td>eu to so aquele video da mulher q coloca uma c...</td>\n",
       "      <td>NaN</td>\n",
       "    </tr>\n",
       "    <tr>\n",
       "      <th>280</th>\n",
       "      <td>correios abre concurso para escolha do selo de...</td>\n",
       "      <td>NaN</td>\n",
       "    </tr>\n",
       "    <tr>\n",
       "      <th>281</th>\n",
       "      <td>to começando a achar que eu perdi o presente q...</td>\n",
       "      <td>NaN</td>\n",
       "    </tr>\n",
       "    <tr>\n",
       "      <th>282</th>\n",
       "      <td>tô com tanto ódio dos correios, caralhooooo me...</td>\n",
       "      <td>NaN</td>\n",
       "    </tr>\n",
       "    <tr>\n",
       "      <th>283</th>\n",
       "      <td>rt @arthurmoledoval: o governo recomendou ao b...</td>\n",
       "      <td>NaN</td>\n",
       "    </tr>\n",
       "    <tr>\n",
       "      <th>284</th>\n",
       "      <td>faça a mesma coisa do outro lado e tenha uma c...</td>\n",
       "      <td>NaN</td>\n",
       "    </tr>\n",
       "    <tr>\n",
       "      <th>285</th>\n",
       "      <td>correios: produto saiu para entrega ao destina...</td>\n",
       "      <td>NaN</td>\n",
       "    </tr>\n",
       "    <tr>\n",
       "      <th>286</th>\n",
       "      <td>me cagando de medo dos correios amassarem o pc...</td>\n",
       "      <td>NaN</td>\n",
       "    </tr>\n",
       "    <tr>\n",
       "      <th>287</th>\n",
       "      <td>pior aplicativo que eu poderia ter no celular ...</td>\n",
       "      <td>NaN</td>\n",
       "    </tr>\n",
       "    <tr>\n",
       "      <th>288</th>\n",
       "      <td>rt @iaragb: cpi dos correios - r$3.863.955,35 ...</td>\n",
       "      <td>NaN</td>\n",
       "    </tr>\n",
       "    <tr>\n",
       "      <th>289</th>\n",
       "      <td>@gaydoida já fui taxado 15 reais numa compra d...</td>\n",
       "      <td>NaN</td>\n",
       "    </tr>\n",
       "    <tr>\n",
       "      <th>290</th>\n",
       "      <td>rt @arthurmoledoval: o governo recomendou ao b...</td>\n",
       "      <td>NaN</td>\n",
       "    </tr>\n",
       "    <tr>\n",
       "      <th>291</th>\n",
       "      <td>amanhã tenho que ir em sapucaia nos correios, ...</td>\n",
       "      <td>NaN</td>\n",
       "    </tr>\n",
       "    <tr>\n",
       "      <th>292</th>\n",
       "      <td>tchau correios https://t.co/r2hk51vizh</td>\n",
       "      <td>NaN</td>\n",
       "    </tr>\n",
       "    <tr>\n",
       "      <th>293</th>\n",
       "      <td>@nakata_ricardo @rafa_freitas23 @arthurmoledov...</td>\n",
       "      <td>NaN</td>\n",
       "    </tr>\n",
       "    <tr>\n",
       "      <th>294</th>\n",
       "      <td>o vereador  da cidade do rio de janeiro, @carl...</td>\n",
       "      <td>NaN</td>\n",
       "    </tr>\n",
       "    <tr>\n",
       "      <th>295</th>\n",
       "      <td>rt @brasil247: com a privatização dos correios...</td>\n",
       "      <td>NaN</td>\n",
       "    </tr>\n",
       "    <tr>\n",
       "      <th>296</th>\n",
       "      <td>cade a @dilmabr? mais do que nunca precisamos ...</td>\n",
       "      <td>NaN</td>\n",
       "    </tr>\n",
       "    <tr>\n",
       "      <th>297</th>\n",
       "      <td>aquela sensação gostosa de chegar em casa e en...</td>\n",
       "      <td>NaN</td>\n",
       "    </tr>\n",
       "    <tr>\n",
       "      <th>298</th>\n",
       "      <td>rt @beija_florbr: acho que é hora não só de ir...</td>\n",
       "      <td>NaN</td>\n",
       "    </tr>\n",
       "  </tbody>\n",
       "</table>\n",
       "<p>299 rows × 2 columns</p>\n",
       "</div>"
      ],
      "text/plain": [
       "                                           Treinamento  Classificacao\n",
       "0    rt @arthurmoledoval: o governo recomendou ao b...            0.0\n",
       "1    rt @casonatogabriel: a amazon, empresa na qual...            0.0\n",
       "2    rt @arthurmoledoval: o governo recomendou ao b...            0.0\n",
       "3    @willianlofy hoje usam correios quem quer, com...            0.0\n",
       "4    @eduwilbert já acordei puto com os correios kk...            1.0\n",
       "5    @filipeazero @folha os correios oferecem servi...            1.0\n",
       "6    rt @iaragb: cpi dos correios - r$3.863.955,35 ...            1.0\n",
       "7          o sistema de entrega dos correios é péssimo            1.0\n",
       "8    rt @casonatogabriel: a amazon, empresa na qual...            0.0\n",
       "9    rt @arthurmoledoval: o governo recomendou ao b...            0.0\n",
       "10   a pessoa vai dirigir de madrugada achando que ...            0.0\n",
       "11   @okeydokeystore @dokeystaff kkkkkkkkkkkkkk, nã...            1.0\n",
       "12   sdd de quando tinha aqueles correios anônimos,...            0.0\n",
       "13   @thefaceofnike han, aqui é nesse pique, o bom ...            0.0\n",
       "14   rt @casonatogabriel: a amazon, empresa na qual...            0.0\n",
       "15   demorou 1 semana pra vir a encomenda dos eua p...            1.0\n",
       "16                 vir aos correios é sempre uma seca!            1.0\n",
       "17   @deborah_gurgeel já recebi encomenda do correi...            1.0\n",
       "18   @eniberto_real @rafaiovanovichi ele disse que ...            0.0\n",
       "19   só pra completar o que ñ completei em um comen...            1.0\n",
       "20                       correios do caralhooooooooooo            1.0\n",
       "21   quadrilha alvo da pf no tocantins vendia moeda...            0.0\n",
       "22   polícia procura por homem que roubou agência d...            0.0\n",
       "23   rt @arthurmoledoval: o governo recomendou ao b...            1.0\n",
       "24   eu odeio os correios, puta que pariu. fui busc...            1.0\n",
       "25   será que dessa vez os correios decidem me mand...            1.0\n",
       "26   @mariadorosario explique porque os “correios” ...            1.0\n",
       "27   @marcelo83182768 @rafa_freitas23 @arthurmoledo...            1.0\n",
       "28   @ph_limass uma pergunta de alguém que genuinam...            0.0\n",
       "29   prazo de 40 dias úteis após pagamento de taxa\\...            1.0\n",
       "..                                                 ...            ...\n",
       "269  ata pq a bonita ia agora nos correios e nn ia ...            NaN\n",
       "270  mas bons são os correios, né não? (prazos a pa...            NaN\n",
       "271  polícia militar prende autores de roubo aos co...            NaN\n",
       "272  rt @paudo_guedes: @luizagcarvalho privatização...            NaN\n",
       "273  @maquelischell_ wow, pera, sério ? já vou mand...            NaN\n",
       "274  rt @siqueirambl: o vereador  da cidade do rio ...            NaN\n",
       "275  a privatização dos correios teria consequência...            NaN\n",
       "276  @ph_limass @brunolimongi2 @ajulysantos @correi...            NaN\n",
       "277  rt @arthurmoledoval: o governo recomendou ao b...            NaN\n",
       "278  nos anos da roubalheira sem fim do pt, a espn ...            NaN\n",
       "279  eu to so aquele video da mulher q coloca uma c...            NaN\n",
       "280  correios abre concurso para escolha do selo de...            NaN\n",
       "281  to começando a achar que eu perdi o presente q...            NaN\n",
       "282  tô com tanto ódio dos correios, caralhooooo me...            NaN\n",
       "283  rt @arthurmoledoval: o governo recomendou ao b...            NaN\n",
       "284  faça a mesma coisa do outro lado e tenha uma c...            NaN\n",
       "285  correios: produto saiu para entrega ao destina...            NaN\n",
       "286  me cagando de medo dos correios amassarem o pc...            NaN\n",
       "287  pior aplicativo que eu poderia ter no celular ...            NaN\n",
       "288  rt @iaragb: cpi dos correios - r$3.863.955,35 ...            NaN\n",
       "289  @gaydoida já fui taxado 15 reais numa compra d...            NaN\n",
       "290  rt @arthurmoledoval: o governo recomendou ao b...            NaN\n",
       "291  amanhã tenho que ir em sapucaia nos correios, ...            NaN\n",
       "292             tchau correios https://t.co/r2hk51vizh            NaN\n",
       "293  @nakata_ricardo @rafa_freitas23 @arthurmoledov...            NaN\n",
       "294  o vereador  da cidade do rio de janeiro, @carl...            NaN\n",
       "295  rt @brasil247: com a privatização dos correios...            NaN\n",
       "296  cade a @dilmabr? mais do que nunca precisamos ...            NaN\n",
       "297  aquela sensação gostosa de chegar em casa e en...            NaN\n",
       "298  rt @beija_florbr: acho que é hora não só de ir...            NaN\n",
       "\n",
       "[299 rows x 2 columns]"
      ]
     },
     "execution_count": 25,
     "metadata": {},
     "output_type": "execute_result"
    }
   ],
   "source": [
    "TREINAMENTO = pd.read_excel('Correios.xlsx',sheet_name = 'Treinamento')\n",
    "TREINAMENTO"
   ]
  },
  {
   "cell_type": "code",
   "execution_count": null,
   "metadata": {},
   "outputs": [],
   "source": [
    "#probabilidade de ser relevante\n",
    "prev"
   ]
  },
  {
   "cell_type": "code",
   "execution_count": null,
   "metadata": {},
   "outputs": [],
   "source": [
    "#probabilidade de não ser relevante\n",
    "pnorev"
   ]
  },
  {
   "cell_type": "markdown",
   "metadata": {},
   "source": [
    "___\n",
    "### Montando o Classificador Naive-Bayes\n",
    "\n",
    "Considerando apenas as mensagens da planilha Treinamento, ensine  seu classificador."
   ]
  },
  {
   "cell_type": "code",
   "execution_count": null,
   "metadata": {},
   "outputs": [],
   "source": [
    "# retira a pontuação dos textos\n",
    "def clean():\n",
    "    punctuation = '[!\\-.:?;]' # Note que os sinais [] são delimitadores de um conjunto.\n",
    "    pattern = re.compile(punctuation)\n",
    "    text_subbed = re.sub(pattern, ' ', text)\n",
    "    return text_subbed    \n",
    "# separa em duas listas (relevantes e irrelevantes)\n",
    "# faz os splits das lstas"
   ]
  },
  {
   "cell_type": "code",
   "execution_count": null,
   "metadata": {},
   "outputs": [],
   "source": [
    "#contador das palavras"
   ]
  },
  {
   "cell_type": "code",
   "execution_count": null,
   "metadata": {},
   "outputs": [],
   "source": [
    "#associa um valor de probabilidade\n",
    "probrev={}\n",
    "#formato {palavra:valor}\n",
    "probnorev={}\n",
    "#formato {palavra:valor}"
   ]
  },
  {
   "cell_type": "markdown",
   "metadata": {},
   "source": [
    "___\n",
    "### Verificando a performance\n",
    "\n",
    "Agora você deve testar o seu classificador com a base de Testes."
   ]
  },
  {
   "cell_type": "code",
   "execution_count": null,
   "metadata": {},
   "outputs": [],
   "source": [
    "smoth = 1/1000000 #é uma estimativa e deve mudar\n",
    "# defini probabilidade de ser relevante:\n",
    "def relevante(tweet):\n",
    "    t = clean(tweet)\n",
    "    prob = 1\n",
    "    for p in t:\n",
    "        if p in probrev:\n",
    "            prob = prob*(probrev(p)+smoth)\n",
    "        else:\n",
    "            prob = prob*(smoth)\n",
    "    prob = prev\n",
    "# defini probabilidade de ser irrelevante:\n",
    "def relevante(tweet):\n",
    "    t = clean(tweet)\n",
    "    prob = 1\n",
    "    for p in t:\n",
    "        if p in probnorev:\n",
    "            prob = prob*(probnorev(p)+smoth)\n",
    "        else:\n",
    "            prob = prob*(smoth)\n",
    "    prob = pnorev"
   ]
  },
  {
   "cell_type": "code",
   "execution_count": null,
   "metadata": {},
   "outputs": [],
   "source": [
    "def compara (tweet):\n",
    "    r = relevante(tweet)\n",
    "    nor = irrelevante(tweet)\n",
    "    return r>nor"
   ]
  },
  {
   "cell_type": "code",
   "execution_count": null,
   "metadata": {},
   "outputs": [],
   "source": [
    "arquivo = \n",
    "rev = 0\n",
    "norev = 0\n",
    "for txt in arquivo:\n",
    "    if compara (txt):\n",
    "        rev +=1\n",
    "    else:\n",
    "        norev+=1\n",
    "print (\"a probabilidade de ser relevante é {}\".format(rev/arquivo.len()))\n",
    "print (\"a probabilidade de não ser relevante é {}\".format(rev/arquivo.len()))\n",
    "if rev/arquivo.len() < 0.9*prev:\n",
    "    print (\"poucos relevantes\")\n",
    "elif rev/arquivo.len() > 1.1*prev:\n",
    "    print (\"muitos relevantes\")\n",
    "else:\n",
    "    print (\"ok: {} veze o esperado\".format (rev/arquivo.len()/prev))\n"
   ]
  },
  {
   "cell_type": "markdown",
   "metadata": {},
   "source": [
    "___\n",
    "### Concluindo"
   ]
  },
  {
   "cell_type": "code",
   "execution_count": null,
   "metadata": {},
   "outputs": [],
   "source": [
    "\n"
   ]
  },
  {
   "cell_type": "code",
   "execution_count": null,
   "metadata": {},
   "outputs": [],
   "source": []
  },
  {
   "cell_type": "markdown",
   "metadata": {},
   "source": [
    "## Aperfeiçoamento:\n",
    "\n",
    "Os trabalhos vão evoluir em conceito dependendo da quantidade de itens avançados:\n",
    "\n",
    "* Limpar: \\n, :, \", ', (, ), etc SEM remover emojis\n",
    "* Corrigir separação de espaços entre palavras e emojis ou emojis e emojis\n",
    "* Propor outras limpezas e transformações que não afetem a qualidade da informação ou classificação\n",
    "* Criar categorias intermediárias de relevância baseadas na probabilidade: ex.: muito relevante, relevante, neutro, irrelevante, muito irrelevante (3 categorias: C, mais categorias conta para B)\n",
    "* Explicar por que não posso usar o próprio classificador para gerar mais amostras de treinamento\n",
    "* Propor diferentes cenários para Naïve Bayes fora do contexto do projeto\n",
    "* Sugerir e explicar melhorias reais com indicações concretas de como implementar (indicar como fazer e indicar material de pesquisa)\n",
    "* Montar um dashboard que periodicamente realiza análise de sentimento e visualiza estes dados"
   ]
  },
  {
   "cell_type": "markdown",
   "metadata": {},
   "source": [
    "# Referências"
   ]
  },
  {
   "cell_type": "markdown",
   "metadata": {},
   "source": [
    "[Naive Bayes and Text Classification](https://arxiv.org/pdf/1410.5329.pdf)  **Mais completo**\n",
    "\n",
    "[A practical explanation of a Naive Bayes Classifier](https://monkeylearn.com/blog/practical-explanation-naive-bayes-classifier/) **Mais simples**"
   ]
  },
  {
   "cell_type": "code",
   "execution_count": null,
   "metadata": {},
   "outputs": [],
   "source": []
  }
 ],
 "metadata": {
  "kernelspec": {
   "display_name": "Python 3",
   "language": "python",
   "name": "python3"
  },
  "language_info": {
   "codemirror_mode": {
    "name": "ipython",
    "version": 3
   },
   "file_extension": ".py",
   "mimetype": "text/x-python",
   "name": "python",
   "nbconvert_exporter": "python",
   "pygments_lexer": "ipython3",
   "version": "3.7.1"
  }
 },
 "nbformat": 4,
 "nbformat_minor": 4
}
